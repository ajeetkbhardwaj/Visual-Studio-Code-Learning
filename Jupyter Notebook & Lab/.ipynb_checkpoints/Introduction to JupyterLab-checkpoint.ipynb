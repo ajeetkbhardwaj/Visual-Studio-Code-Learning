{
 "cells": [
  {
   "cell_type": "markdown",
   "id": "e006fe2c-5bf0-485a-9a55-272736bed2aa",
   "metadata": {},
   "source": [
    "# Introduction to JupyterLab\n",
    "To start using jupyterlab inside conda distribution follow the following steps:\n",
    "1. create a conda enviroment where you wants to work with all necessary libraries and package in python or other any languages. Use the following commond on conda prompt : `conda create -n \"Enviroment_Name\"`\n",
    "2. To Install the ipykernel for python and for Julia install the IJulia Kernel and for R install the r-irkernel in the conda working enviroment to use jupyterlab.\n",
    "  * Python Kernel : `conda install -c conda-forge ipykernel`\n",
    "  * Julia Kernel : `conda install -c conda-forge IJulia`\n",
    "  * R Kernel : ` conda install -c conda-forge r-irkernel`\n",
    "3. To Install the jupyterlab in our conda vertual enviroment using following commond : `conda install -c conda-forge jupyterlab`\n",
    "4. To get starte with jupyterlab just activate your virtual enviroment : `conda activate \"Name of Conda Enviroment`\n",
    "5. Then just type on the commond prompt : `jupyter lab`\n",
    "6. Now, Jupterlab server will get started and a window tab will open with jupyterlab interface and get started to work with jupyterlab."
   ]
  },
  {
   "cell_type": "code",
   "execution_count": null,
   "id": "f367314a-25d3-445c-a41f-16a5e20e3426",
   "metadata": {},
   "outputs": [],
   "source": []
  }
 ],
 "metadata": {
  "kernelspec": {
   "display_name": "AIDS",
   "language": "python",
   "name": "aids"
  },
  "language_info": {
   "codemirror_mode": {
    "name": "ipython",
    "version": 3
   },
   "file_extension": ".py",
   "mimetype": "text/x-python",
   "name": "python",
   "nbconvert_exporter": "python",
   "pygments_lexer": "ipython3",
   "version": "3.7.15"
  }
 },
 "nbformat": 4,
 "nbformat_minor": 5
}
