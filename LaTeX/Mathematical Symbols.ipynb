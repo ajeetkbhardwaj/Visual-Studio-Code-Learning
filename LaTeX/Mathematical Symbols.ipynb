{
 "cells": [
  {
   "attachments": {},
   "cell_type": "markdown",
   "metadata": {},
   "source": [
    "# Mathematical Symbols : LaTeX\n"
   ]
  },
  {
   "attachments": {},
   "cell_type": "markdown",
   "metadata": {},
   "source": [
    "* **Numbers**\n",
    "\n",
    "* **Arithmetic Operators**\n",
    "\n",
    "Addition : $x + y$ eg : $2a + 3b + c$\n",
    "\n",
    "Substraction : $x - y$ eg : $11 - 34$\n",
    "\n",
    "Additive Inverse : $-x$ eg : $-3 + 3$\n",
    "\n",
    "Products : $x \\times y$ or $x \\cdot y$ or $xy$\n",
    "\n",
    "Quotients : $x \\div y$ or $x/y$\n",
    "\n",
    "Fraction : $\\displaystyle\\frac{x}{y}$\n",
    "\n",
    "Power : $x^y$ or $((x^y)^z)^3 $\n",
    "\n",
    "Plus-Minus : $x \\pm y$\n",
    "\n",
    "Positive square roots : $\\sqrt{xy}$\n",
    "\n",
    "Absolute value : $|x|$\n",
    "\n",
    "Percentage : $x \\%$"
   ]
  },
  {
   "attachments": {},
   "cell_type": "markdown",
   "metadata": {},
   "source": [
    "$\\operatorname{dom}f$\n",
    "$\\operatorname{ran}f$\n",
    "$f(x)$\n",
    "$F(X)$\n",
    "$f\\circ g$ $$\n",
    "$$\n",
    "$$\n",
    "$$\n",
    "$$\n",
    "$$\n",
    "$$\n",
    "$$\n",
    "$$\n",
    "$$\n",
    "$$$$$$$$$$$$$$$$$$$$$$$$$$$$$$$$$$$$$$$$$$$$$$$$$$$$$$$$$$$$$$$$$$$$$$$$$$$$$$$$$$$$$$$$$$$$$$$$$$$$$$$$$$$$$$$$$$$$$$$$$$$$$$$$$$$$$$$$$$$$$$$$$$$$$$$$$$$$$$$$$$$$$$$$$$$$$$$$$$$$$$$$$$$$$$$$$$$$$$$$$$$$$$$$$$$$$$$$$$$$$$$$$$$$$$$$$$$$$$$$$$$$$$$$$$$$$$$$$$$$$$$$$$$$$$$$$$$$$$$$$$$$$$$$$$$$$$$$$$$$$$$$$$$$$$$$$$$$$$$$$$$$$$$$$$$$"
   ]
  },
  {
   "cell_type": "markdown",
   "metadata": {},
   "source": []
  },
  {
   "cell_type": "markdown",
   "metadata": {},
   "source": []
  },
  {
   "cell_type": "markdown",
   "metadata": {},
   "source": []
  },
  {
   "cell_type": "markdown",
   "metadata": {},
   "source": []
  },
  {
   "cell_type": "markdown",
   "metadata": {},
   "source": []
  },
  {
   "cell_type": "markdown",
   "metadata": {},
   "source": []
  },
  {
   "cell_type": "code",
   "execution_count": null,
   "metadata": {},
   "outputs": [],
   "source": []
  }
 ],
 "metadata": {
  "language_info": {
   "name": "python"
  },
  "orig_nbformat": 4
 },
 "nbformat": 4,
 "nbformat_minor": 2
}
