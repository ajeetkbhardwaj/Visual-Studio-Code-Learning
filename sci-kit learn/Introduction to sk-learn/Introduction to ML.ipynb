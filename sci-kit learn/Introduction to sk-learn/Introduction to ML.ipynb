{
 "cells": [
  {
   "cell_type": "markdown",
   "id": "04a55730",
   "metadata": {},
   "source": [
    "# Introduction to Machine Learning with sci-kit learn\n",
    "* **Machine Learning Problem :**\n",
    "> A machine learning problem considers a set of n samples of data and then tries to predict properties  of unknown data. if each sample has more than one instance or multidimentional(multivariate) data then it have multiple attributes(features).\n",
    "\n",
    "* **Machine learning problems can be categorise into followings :**\n",
    "  * *Supervised Learning :*\n",
    "  > Classification Problem : Sample dataset belongs to two or multiple classes and we needed to learn from those label datasets such that we can accuraty predict those labels  on unseen data.\n",
    "  \n",
    "  > Handwritten Digit Recognition : \n",
    "  \n",
    "  > Regression Problem : If the desired output consists of one or more continuous variables, then the task is called regression\n",
    "  > Prediction of the length of a salmon as a function of its age and wight.\n",
    "  * *Unsupervised Learning :*\n",
    "  > In this type of learning problem training data consists of a set of inputs vectors x without any corresponding target values. the aim of such problem is to find similar pattern in the data\n",
    "  \n",
    "   > Clustering Problems : To discover the similar examples into our dataset.\n",
    "  \n",
    "   > Density Estimation Problem : To determine the distribution of data within the input space.\n",
    "   > Project the data from high dimentional space to 2 or 3 dimentional space for the purpose of visulization.\n",
    "* **Training data and Test data :**\n",
    "  > Machine learning is all about learning some properties from our dataset and then testing those properties agaist useen new data set. the common practice in ML is to evaluate an algorithms by splitting data into two parts into percentage of 80% and 20% called.\n",
    "  * Trainin Dataset :\n",
    "  * Test Dataset :"
   ]
  },
  {
   "cell_type": "markdown",
   "id": "4902ed3b",
   "metadata": {},
   "source": [
    "### Machine Leaning Problem : Classification\n"
   ]
  },
  {
   "cell_type": "code",
   "execution_count": 14,
   "id": "2c1b313d",
   "metadata": {},
   "outputs": [],
   "source": [
    "from sklearn import datasets\n",
    "from sklearn.svm import SVC"
   ]
  },
  {
   "cell_type": "code",
   "execution_count": 2,
   "id": "48c69c94",
   "metadata": {},
   "outputs": [],
   "source": [
    "iris_data = datasets.load_iris()"
   ]
  },
  {
   "cell_type": "code",
   "execution_count": 17,
   "id": "c1723f73",
   "metadata": {},
   "outputs": [],
   "source": [
    "dataset = (iris_data.data,iris_data.target) # (instances, attribues) or (Value, features)"
   ]
  },
  {
   "cell_type": "code",
   "execution_count": 19,
   "id": "14321f01",
   "metadata": {},
   "outputs": [
    {
     "data": {
      "text/plain": [
       "SVC()"
      ]
     },
     "execution_count": 19,
     "metadata": {},
     "output_type": "execute_result"
    }
   ],
   "source": [
    "clf = SVC()\n",
    "clf.fit(iris_data.data,iris_data.target)\n",
    "clf"
   ]
  },
  {
   "cell_type": "code",
   "execution_count": 20,
   "id": "0a59f596",
   "metadata": {},
   "outputs": [
    {
     "data": {
      "text/plain": [
       "[0, 0, 0, 0, 0, 0, 0, 0, 0]"
      ]
     },
     "execution_count": 20,
     "metadata": {},
     "output_type": "execute_result"
    }
   ],
   "source": [
    "list(clf.predict(iris_data.data[0:9]))\n"
   ]
  },
  {
   "cell_type": "code",
   "execution_count": 21,
   "id": "a53ddb9a",
   "metadata": {},
   "outputs": [
    {
     "data": {
      "text/plain": [
       "SVC()"
      ]
     },
     "execution_count": 21,
     "metadata": {},
     "output_type": "execute_result"
    }
   ],
   "source": [
    "clf.fit(iris_data.data, iris_data.target_names[iris_data.target])"
   ]
  },
  {
   "cell_type": "code",
   "execution_count": 23,
   "id": "ef2c250c",
   "metadata": {},
   "outputs": [
    {
     "data": {
      "text/plain": [
       "['setosa',\n",
       " 'setosa',\n",
       " 'setosa',\n",
       " 'setosa',\n",
       " 'setosa',\n",
       " 'setosa',\n",
       " 'setosa',\n",
       " 'setosa',\n",
       " 'setosa']"
      ]
     },
     "execution_count": 23,
     "metadata": {},
     "output_type": "execute_result"
    }
   ],
   "source": [
    "list(clf.predict(iris_data.data[0:9]))"
   ]
  },
  {
   "cell_type": "code",
   "execution_count": null,
   "id": "c2facac7",
   "metadata": {},
   "outputs": [],
   "source": []
  }
 ],
 "metadata": {
  "kernelspec": {
   "display_name": "Python 3 (ipykernel)",
   "language": "python",
   "name": "python3"
  },
  "language_info": {
   "codemirror_mode": {
    "name": "ipython",
    "version": 3
   },
   "file_extension": ".py",
   "mimetype": "text/x-python",
   "name": "python",
   "nbconvert_exporter": "python",
   "pygments_lexer": "ipython3",
   "version": "3.9.13"
  }
 },
 "nbformat": 4,
 "nbformat_minor": 5
}
